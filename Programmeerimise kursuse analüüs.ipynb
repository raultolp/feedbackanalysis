{
 "cells": [
  {
   "cell_type": "markdown",
   "metadata": {},
   "source": [
    "#### TARTU ÜLIKOOL : Arvutiteaduse instituut : Informaatika õppekava\n",
    "#### Autor: Raul Tölp\n",
    "### Töö nimetus: Programmeerimise kursuse tagasiside analüüs\n",
    "#### Bakalaureusetöö analüüsi osa\n",
    "##### Juhendaja: Reimo Palm\n",
    "#### Tartu 2020"
   ]
  },
  {
   "cell_type": "markdown",
   "metadata": {},
   "source": [
    "### Materjalid: 2018 ja 2019 aasta moodle küsitlused\n",
    "* Stardiküsitlus\n",
    "* Lõpuküsitlus\n",
    "* Kodutööd 12 tk\n",
    "* Kontrolltööd 2 tk\n",
    "* Hinneteleht\n",
    "### lisaks:\n",
    "* Moodles enesekontrolli testid"
   ]
  },
  {
   "cell_type": "markdown",
   "metadata": {},
   "source": [
    "# Impordid"
   ]
  },
  {
   "cell_type": "code",
   "execution_count": null,
   "metadata": {
    "scrolled": false
   },
   "outputs": [],
   "source": [
    "import pandas as pd\n",
    "import numpy as np\n",
    "import re\n",
    "import random\n",
    "\n",
    "import matplotlib.pyplot as plt\n",
    "import seaborn as sns\n",
    "\n",
    "from collections import Counter\n",
    "\n",
    "from sklearn.linear_model import LinearRegression\n",
    "from sklearn.model_selection import train_test_split\n",
    "\n",
    "from wordcloud import WordCloud, STOPWORDS, ImageColorGenerator\n",
    "\n",
    "import matplotlib.ticker as mtick\n",
    "\n",
    "# pd.options.display.max_colwidth = 100\n",
    "\n",
    "# help(pd.Series.loc)\n",
    "\n",
    "# Kasutatud lingid:\n",
    "# https://www.listendata.com/2019/06/matplotlib-tutorial-learn-plot-python.html\n",
    "# http://enhancedatascience.com/2017/04/15/linear-regression-python-predicting-car-sales-price/\n",
    "# https://stackabuse.com/linear-regression-in-python-with-scikit-learn/\n",
    "# https://www.datacamp.com/community/tutorials/wordcloud-python\n",
    "# https://stackoverflow.com/questions/42818361/how-to-make-two-plots-side-by-side-using-python\n",
    "# https://stackoverflow.com/questions/14770735/how-do-i-change-the-figure-size-with-subplots\n",
    "# https://towardsdatascience.com/10-python-pandas-tricks-to-make-data-analysis-more-enjoyable-cb8f55af8c30\n",
    "# https://matplotlib.org/gallery/api/two_scales.html\n",
    "# https://matplotlib.org/3.1.1/gallery/subplots_axes_and_figures/secondary_axis.html\n",
    "# https://stackoverflow.com/questions/43149703/adding-a-second-y-axis-related-to-the-first-y-axis\n",
    "# https://matplotlib.org/3.1.1/api/_as_gen/matplotlib.axes.Axes.set_xticklabels.html\n",
    "# https://matplotlib.org/3.2.1/api/_as_gen/matplotlib.pyplot.xticks.html\n",
    "# https://stackoverflow.com/questions/13052844/matplotlib-how-to-decrease-density-of-tick-labels-in-subplots\n",
    "# https://stackoverflow.com/questions/14770735/how-do-i-change-the-figure-size-with-subplots\n",
    "# https://www.tutorialgateway.org/pandas-dataframe-plot/\n",
    "# https://www.shanelynn.ie/bar-plots-in-python-using-pandas-dataframes/\n",
    "# https://www.listendata.com/2019/06/matplotlib-tutorial-learn-plot-python.html\n",
    "# https://python-graph-gallery.com/82-marginal-plot-with-seaborn/\n",
    "# https://pythonspot.com/matplotlib-scatterplot/\n",
    "# https://realpython.com/pandas-groupby/"
   ]
  },
  {
   "cell_type": "code",
   "execution_count": null,
   "metadata": {},
   "outputs": [],
   "source": [
    "# https://stackoverflow.com/questions/18770504/resize-ipython-notebook-output-window\n",
    "# %%html\n",
    "# <style>\n",
    "# .output_wrapper, .output {\n",
    "#     height:auto !important;\n",
    "#     max-height:400px;  /* your desired max-height here */\n",
    "# }\n",
    "# .output_scroll {\n",
    "#     box-shadow:none !important;\n",
    "#     webkit-box-shadow:none !important;\n",
    "# }\n",
    "# </style>"
   ]
  },
  {
   "cell_type": "markdown",
   "metadata": {},
   "source": [
    "# OSA 1"
   ]
  },
  {
   "cell_type": "markdown",
   "metadata": {},
   "source": [
    "# Üldandmed"
   ]
  },
  {
   "cell_type": "code",
   "execution_count": null,
   "metadata": {
    "scrolled": false
   },
   "outputs": [],
   "source": [
    "aastad = ['2018', '2019'] # kastutavad aastad\n",
    "lehed = ['Start', '2', '3', '4', '5', 'KT1', '7', '8', '9', '10', '11', 'KT2', '13', '14', '15', 'Lõpp', 'Hinded'] # alamlehtede nimetused\n",
    "vastanud = [] # abimuutuja df tegemiseks - vastanute arv\n",
    "mõõtmed = [] # abimuutuja df tegemiseks - tabeli mõõtmed\n",
    "andmed = [] # abimuutuja df tegemiseks - andmed\n",
    "\n",
    "# Üldine info tabelite kohta\n",
    "for aasta in aastad:\n",
    "    xlsx = pd.ExcelFile(aasta + '.xlsx')\n",
    "    vast = {}\n",
    "    mõõt = {}\n",
    "    andm = {}\n",
    "    \n",
    "    for leht in lehed:\n",
    "        df = pd.read_excel(xlsx, leht) # loeme sisse alamlehe\n",
    "        vast[leht] = df.shape[0] # vastanute arv\n",
    "        mõõt[leht] = df.shape # lehe mõõtmed\n",
    "        df_andmed = df.agg(['nunique','count','size']).T # iga tulba kohta unikaalsed, andmete hulk, täispikkus\n",
    "        df_andmed['vastanute %'] = round(df_andmed['count'] / df_andmed['size'] * 100 , 1) # lisame vatanute protsendi tulba\n",
    "        andm[leht] = df_andmed # lisame andmed sõnaraamatusse\n",
    "        \n",
    "        if leht == lehed[-1]: # Hinded - kui on hinnete leht, lisame andmete koguse nende kohta, kelle punktid > 0\n",
    "            vast['Punktid > 0'] = df[df['Hinne (Punktid)'] != 0].shape[0]\n",
    "        \n",
    "    vastanud.append(vast)\n",
    "    mõõtmed.append(mõõt)\n",
    "    andmed.append(andm)\n",
    "\n",
    "df_vastanud = pd.DataFrame(vastanud, index = aastad) # df vastanute arvust\n",
    "df_mõõtmed = pd.DataFrame(mõõtmed, index = aastad) # df tabeli mõõtmetest\n",
    "df_andmed = pd.DataFrame(andmed, index = aastad) # df kõikidest andmetest"
   ]
  },
  {
   "cell_type": "code",
   "execution_count": null,
   "metadata": {
    "scrolled": false
   },
   "outputs": [],
   "source": [
    "# df_mõõtmed - tabelite mõõtmed\n",
    "\n",
    "print(\"Tabeleid ühes aastas:\", len(lehed))\n",
    "display(df_mõõtmed)"
   ]
  },
  {
   "cell_type": "code",
   "execution_count": null,
   "metadata": {
    "scrolled": true
   },
   "outputs": [],
   "source": [
    "# df_andmed - suur hulk tabeleid baasandmete kohta\n",
    "# siin näha küsimustiku kusimused, nende arv (size), unikaalsete vastuste ja kõigi vastanute arv (count) tulpade kaupa\n",
    "# võib panna lisasse, kui see mõistlik (samas pole väga oluline, lihtalt see abiks analüüsi tegemisel)\n",
    "\n",
    "for index, aasta in enumerate(aastad):\n",
    "    for nädal in lehed:\n",
    "        print('Aasta:', aasta + ', küsitlus (nädal):', nädal)\n",
    "        display(df_andmed.iloc[index][nädal])"
   ]
  },
  {
   "cell_type": "code",
   "execution_count": null,
   "metadata": {
    "scrolled": false
   },
   "outputs": [],
   "source": [
    "# df_vastanud - vastanute arv tabelites\n",
    "# Selle jätsin vaid seetõttu, et hea võrdlus 'Lõpppunktid > 0' suhtes\n",
    "\n",
    "print('Andmeridade arv erinevates tabelites:')\n",
    "display(df_vastanud)\n",
    "\n",
    "df_temp = df_vastanud.rename(columns = {'Punktid > 0': 'P>0'})\n",
    "df_temp.drop(['Hinded'], axis=1, inplace=True)\n",
    "\n",
    "# V1\n",
    "# plt.figure(figsize=(8,4))\n",
    "# plt.plot(df_temp.T)\n",
    "# plt.legend(aastad, loc = \"best\")\n",
    "# plt.ylabel('vastanute arv')\n",
    "# plt.xlabel('Küsimustik (nädal)')\n",
    "# plt.title('Andmeridade arv')\n",
    "# plt.show()\n",
    "\n",
    "# V2 - kuna stardiküsitluste andmed enamvähem sama suured, siis lisatud ka protsenditelg\n",
    "fig, ax = plt.subplots(figsize=(10,5))\n",
    "ax.plot(df_temp.T, marker = '.')\n",
    "ax2 = ax.twinx() # teeme teise y telje\n",
    "Y2 = lambda z: z / df_temp.max().max() * 100 # max suhtes; saab ka [y-2], kus y = list(ax.get_yticks())\n",
    "ymin, ymax = ax.get_ylim()\n",
    "ax2.set_ylim((Y2(ymin), Y2(ymax)))\n",
    "ax2.yaxis.set_major_formatter(mtick.PercentFormatter(decimals = 0))\n",
    "ax2.locator_params(nbins = 20, axis = 'y')\n",
    "ax.legend(aastad, loc = 'best')\n",
    "ax.set_ylabel('vastanute arv')\n",
    "ax.set_xlabel('Küsimustik (nädal)')\n",
    "plt.title('Andmeridade arv')\n",
    "plt.show()"
   ]
  },
  {
   "cell_type": "code",
   "execution_count": null,
   "metadata": {
    "scrolled": false
   },
   "outputs": [],
   "source": [
    "# Vastanute arv protsentides stardiküsitluse koguarvu suhtes\n",
    "protsendid = []\n",
    "\n",
    "for index, aasta in enumerate(aastad):\n",
    "    andmed = {lehed[0]: 100} # Start saab 100%\n",
    "    for i in range(1, len(lehed) - 1): # Starti ja Hindeid ei vaata\n",
    "        andmed[lehed[i]] = round(vastanud[index][lehed[i]] / vastanud[index][lehed[0]] * 100, 1)\n",
    "    protsendid.append(andmed)\n",
    "    \n",
    "print('Vastanute arv protsentides stardiküsitluse koguarvu suhtes:')\n",
    "df_protsendid = pd.DataFrame(protsendid, index = aastad)\n",
    "display(df_protsendid)\n",
    "\n",
    "def plot_protsendid(df):\n",
    "    fig,ax = plt.subplots(figsize=(10,5))\n",
    "    x = df.columns\n",
    "\n",
    "    for i in range(len(aastad)):\n",
    "        data = ax.plot(x, df.iloc[i], label = df.index[i], marker = '.')\n",
    "#         y = [df.iloc[i].mean()] * len(x)\n",
    "#         mean = ax.plot(x, y, linestyle = '--', label = df.index[i] + ' keskmine') # keskmise joon\n",
    "#         y = [df.iloc[i].median()] * len(x)\n",
    "#         mean = ax.plot(x, y, linestyle = '-.', label = df.index[i] + ' mediaan') # mediaan, see ei anna suurt midagi\n",
    "    \n",
    "    ax.locator_params(nbins = 20, axis = 'y')\n",
    "    ax.yaxis.set_major_formatter(mtick.PercentFormatter(decimals = 0))\n",
    "    ax.legend(loc = 'best')\n",
    "    plt.ylabel('vastanute arv protsentides')\n",
    "    plt.xlabel('Küsimustik (nädal)')\n",
    "    plt.title('Küsimustikele tagasiside andnute arv protsentides (start = 100%)')\n",
    "    plt.show()\n",
    "    \n",
    "plot_protsendid(df_protsendid)"
   ]
  },
  {
   "cell_type": "code",
   "execution_count": null,
   "metadata": {
    "scrolled": false
   },
   "outputs": [],
   "source": [
    "# Kõikie küsitluste vastanute arv protsentides\n",
    "\n",
    "for index, aasta in enumerate(aastad):\n",
    "    fig, ax = plt.subplots(nrows=4, ncols=4, figsize=(12,8), constrained_layout=True)\n",
    "\n",
    "    for i in range(0, 4):\n",
    "        for j in range(0, 4):\n",
    "            nädal = i * 4 + j\n",
    "            df_temp = pd.DataFrame(df_andmed.iloc[index][nädal][3:]['vastanute %']) # 4.-ndast tulbast hakkavad küsimused/vastused\n",
    "            df_temp.index = np.arange(1, len(df_temp) + 1) # Küsimuste nimed numbriteks\n",
    "            ax[i,j].plot(df_temp)\n",
    "            ax[i,j].set_ylim(-5, 105)\n",
    "            ax[i,j].locator_params(nbins = 10, axis = 'y')\n",
    "            ax[i,j].yaxis.set_major_formatter(mtick.PercentFormatter(decimals = 0))\n",
    "#                 ax[i,j].xaxis.set_ticks(df_temp.index)\n",
    "            ax[i,j].title.set_text('Nädal: ' + lehed[nädal])\n",
    "\n",
    "    fig.suptitle(aasta + ' nädalaküsitlustele vastanute arv protsentuaalselt küsimuste kaupa')\n",
    "    plt.show()"
   ]
  },
  {
   "cell_type": "markdown",
   "metadata": {},
   "source": [
    "# OSA 2"
   ]
  },
  {
   "cell_type": "markdown",
   "metadata": {},
   "source": [
    "# Stardiküsitlus 2018-2019"
   ]
  },
  {
   "cell_type": "code",
   "execution_count": null,
   "metadata": {
    "scrolled": false
   },
   "outputs": [],
   "source": [
    "# COL\t3\tKuidas hindad oma programmeerimisoskusi / teadmisi enne selle kursuse algust?\n",
    "# COL\t4\tTäpsustus: kui oled programmeerimisega kokku puutunud, siis kuidas?\n",
    "# COL\t5\tOleta, millistes rollides võiksid sa tulevikus oma programmeerimisoskust otseselt või kaudselt rakendada. Vali need, mis tunduvad sulle enam-vähem realistlikud.\n",
    "# COL\t6\tMida see programm võiks teha ja miks sa nii arvad? Tegemist on väljamõeldud programmeerimiskeelega, seetõttu pole siin ei õiget ega valet vastust.\n",
    "# COL\t7\tMida sa kursuselt ootad? Kas arvad, et saab olema kerge? Raske? Igav? Huvitav? Miks? Midagi muud, mida soovid meile öelda? Siin saad ka täpsustada või kommenteerida eelmiste küsimuste vastuseid."
   ]
  },
  {
   "cell_type": "markdown",
   "metadata": {},
   "source": [
    "Tulemusi aanlüüsitakse anonüümselt ja grupeerimiseks kasutatakse stardiküsitluses antud eelenvat kogemust"
   ]
  },
  {
   "cell_type": "code",
   "execution_count": null,
   "metadata": {
    "scrolled": false
   },
   "outputs": [],
   "source": [
    "# Loeme sisse start ja hinnete lehed ja liidame kokku üheks DF-ks\n",
    "# ei loeta neid, kellel puudub rühm ja seega ka hilisemad andmed\n",
    "# sai kontrollitud, et ei oleks mitut sama nimega\n",
    "# Lisainfo DF kohta: df.info(), df.describe(), df.count()\n",
    "\n",
    "def loe_andmed(leht, lisa_hinded = False):\n",
    "    df = {}\n",
    "    for aasta in aastad:\n",
    "        xlsx = pd.ExcelFile(aasta + '.xlsx')\n",
    "        df_l = pd.read_excel(xlsx, leht)\n",
    "        df_l = df_l.fillna('Andmed puuduvad')\n",
    "        if lisa_hinded:\n",
    "            df_h = pd.read_excel(xlsx, 'Hinded')\n",
    "            df_h = df_h.replace(to_replace = '-', value = 0)\n",
    "            df_h['Kasutaja täisnimi'] = df_h.Eesnimi + ' ' + df_h.Perenimi\n",
    "            df[aasta] = pd.merge(df_l, df_h, on = 'Kasutaja täisnimi', how='left').fillna(0) # ja paneme need kokku\n",
    "        else:\n",
    "            df[aasta] = df_l\n",
    "#         len(df[aasta][df[aasta].duplicated(['Kasutaja täisnimi'])]) # duplikaatide kontroll\n",
    "    return df\n",
    "\n",
    "def plot_barh_perc(df, tiitel, xtiitel = '', suurus = (8, 4), droppida = True, järjestus = '', skaala = 0):\n",
    "    if len(list(df.index)) == len(järjestus):\n",
    "        df = df.reindex(järjestus)\n",
    "    elif len(järjestus) > 0:\n",
    "        print('Sortimise viga:\\n', list(df.index), '\\n', järjestus)\n",
    "        \n",
    "    if droppida:\n",
    "        dff = df.drop(aastad, axis=1, inplace=False)\n",
    "    else:\n",
    "        dff = df\n",
    "        \n",
    "    ax = dff.plot(kind = 'barh', figsize = suurus)\n",
    "    ax.xaxis.set_major_formatter(mtick.PercentFormatter(decimals = skaala))\n",
    "    ax.invert_yaxis() # et andmed oleks ülevalt alla kahanevas järjestuses ja väiksem aastaarv eespool\n",
    "#     ax.locator_params(tight = True, axis = 'x') # rohkem ticke, kuid vahepeal teeb trikke\n",
    "    plt.legend(loc='best', fancybox=True, framealpha=0.5)\n",
    "    plt.xlabel(xtiitel)\n",
    "    plt.title(tiitel)\n",
    "    plt.show()\n",
    "    display(df)\n",
    "\n",
    "df_start = loe_andmed('Start', True) # stardiküsitlust + hinded ühes df-s\n",
    "df_startstat = pd.DataFrame()\n",
    "\n",
    "for aasta in aastad:\n",
    "    df = df_start[aasta]\n",
    "    start = len(df)\n",
    "    r = len(df[df['Rühmad'] != 0])\n",
    "    p = len(df[df['Hinne (Punktid)'] != 0])\n",
    "    p50 = len(df[df['Hinne (Punktid)'] >= 50])\n",
    "    df_startstat[aasta] = [start, r, p, p50]\n",
    "    df_startstat[aasta + ' %'] = [100, round(r / start * 100, 1), round(p / start * 100, 1), round(p50 / start * 100, 1)]\n",
    "    df_startstat.index = ['Stardiküsitlusele vastanuid', 'Rühm määratud', 'Punktid > 0', 'Punktid $\\geq$ 50']\n",
    "\n",
    "plot_barh_perc(df_startstat.drop(['Rühm määratud']), 'Võrdlused stardiküsitlusega')"
   ]
  },
  {
   "cell_type": "code",
   "execution_count": null,
   "metadata": {
    "scrolled": false
   },
   "outputs": [],
   "source": [
    "# üldine tulba statistika %-des\n",
    "def col_stat(dfs, tulp, tükelda = False, sordi_index = False):\n",
    "    data = {}\n",
    "    tulba_nimi = dfs[aastad[0]].columns[tulp]\n",
    "    for aasta in aastad:\n",
    "        df = dfs[aasta]\n",
    "        df = df.replace(['0', 0], np.nan) # 0 andmed asendame np.nan\n",
    "        df = df.fillna(\"Andmed puuduvad\") # np.nan asendame, et andmed puuduvad\n",
    "        if tükelda: # kui ühes lahtris on mitmed andmed, siis tükeldame\n",
    "            tükid = []\n",
    "            for item in df[tulba_nimi]:\n",
    "                tükid += item.split('\\n')\n",
    "                data[aasta] = pd.Series(Counter(tükid))\n",
    "        else:\n",
    "            data[aasta] = df[tulba_nimi].value_counts() # saab ka df.groupby(tulp)[tulp].agg('count')\n",
    "            \n",
    "        data[aasta + ' %'] = round(data[aasta] / data[aasta].sum() * 100, 1)\n",
    "#         data[aasta] = map(int, list(data[aasta]))\n",
    "\n",
    "    df = pd.DataFrame(data)\n",
    "    \n",
    "    if sordi_index:\n",
    "        df.sort_index(inplace = True) # sordime indexi järgi\n",
    "    else:\n",
    "        df.sort_values(by=[aastad[-1] + ' %'], inplace=True, ascending=False) # sordime viimase aasta järgi\n",
    "    return df, tulba_nimi\n",
    "    \n",
    "def plot_pie(df, tiitel):\n",
    "    dff = df.drop(aastad, axis=1, inplace=False)\n",
    "    for index, col in enumerate(dff.columns):\n",
    "        ax = df[col].plot(kind='pie', autopct = '%1.1f%%', legend=False, figsize=(5, 5), title=aastad[index]+\" : \"+tiitel)\n",
    "        ax.set(ylabel = '')\n",
    "        plt.show()"
   ]
  },
  {
   "cell_type": "code",
   "execution_count": null,
   "metadata": {
    "scrolled": false
   },
   "outputs": [],
   "source": [
    "# START - COL 3 -'Kuidas hindad oma programmeerimisoskusi / teadmisi enne selle kursuse algust?'\n",
    "\n",
    "df, tiitel = col_stat(df_start, 3)\n",
    "plot_barh_perc(df, tiitel, 'vastuste % kõigist vastusest')\n",
    "    \n",
    "# tulemused sarnased, vaid väga tugevate osakaal on väheke kasvanud\n",
    "# võib eeldada, et umbes 5% oleks võimelised eeleksamit tegema\n",
    "\n",
    "# Samad andmed sektordiagrammiga, kus vastanute hulk on 100% - see annab parema pildi\n",
    "plot_pie(df, tiitel)"
   ]
  },
  {
   "cell_type": "code",
   "execution_count": null,
   "metadata": {
    "scrolled": false
   },
   "outputs": [],
   "source": [
    "# Eelnevalt sai testitud ka lineaarse regressiooni mudelit, kus andmed sai teisendatud one-hot vektoriteks\n",
    "# Lineaarse regressiooni mudel punktide järgi väga head täpsust ei andnud\n",
    "# Täpsus oleks olnud veidike parem, kui oleks ennustanud lõpphinnet A, B, C jne.,\n",
    "# kuid ka siis ei oleks see väga täpne olnud, sest hinded jagunevad eri tasemetel suhteliselt ühtlaselt.\n",
    "\n",
    "# Punktide jaotus vastavalt eelnevale oskusele\n",
    "sort_tase = ['Olen suht kõva käsi, arvan, et siin kursusel ma väga palju juurde ei õpi',\n",
    "            'Oskan lihtsaid programme luua (võibolla ka mingis muus keeles kui Python)',\n",
    "            'Olen varem proovinud pisut programmeerida, aga pole kaugele jõudnud',\n",
    "            'Mingi ettekujutus programmeerimisest on, aga ise polnud proovinud',\n",
    "            'Ei tea programmeerimisest peaaegu midagi']\n",
    "\n",
    "def plot_scatter(punktitulp = 'Hinne (Punktid)', tiitel = 'Lõpp-', nulliga_lõpetanud = True):\n",
    "    for aasta in aastad:\n",
    "        if nulliga_lõpetanud: # kas nulliga lõptatnud jätta andmete hulka\n",
    "            df = df_start[aasta].loc[:, [df_start[aasta].columns[3], punktitulp]].copy()\n",
    "        else: # või ei\n",
    "            df = df_start[aasta][df_start[aasta]['Hinne (Punktid)'] != 0].loc[:, [df_start[aasta].columns[3], punktitulp]].copy()\n",
    "        \n",
    "#         display(df[df.columns[0]].unique()) # nimetused sortimiseks\n",
    "        df[df.columns[0]] = pd.Categorical(df[df.columns[0]], sort_tase[::-1])\n",
    "        df.sort_values(by=df.columns[0], inplace=True) # vajalik, et kõik tabelid tuleks sama Y telje järjestusega\n",
    "        plt.figure(figsize=(8,2))\n",
    "        plt.scatter(df[df.columns[1]], df[df.columns[0]])\n",
    "        plt.title(aasta + ' : ' + tiitel + 'punktide jaotus vastavalt eelnevale kogemusele')\n",
    "        plt.show()\n",
    "        \n",
    "        if nulliga_lõpetanud: # kui nulliga lõptanud sees, siis zoomi ilma 0 hindeta\n",
    "            df2 = df[df[df.columns[1]] > 0].copy()\n",
    "#             df2.sort_values(by=df2.columns[0], inplace=True)\n",
    "            plt.figure(figsize=(8,2))\n",
    "            plt.scatter(df2[df2.columns[1]], df2[df2.columns[0]])\n",
    "            plt.title(aasta + ' : ' + tiitel + 'punktide jaotus vastavalt eelnevale kogemusele, punktid > 0 ')\n",
    "            plt.show()\n",
    "\n",
    "plot_scatter('Hinne (Punktid)', 'Lõpp-', True)"
   ]
  },
  {
   "cell_type": "code",
   "execution_count": null,
   "metadata": {
    "scrolled": false
   },
   "outputs": [],
   "source": [
    "# START - COL 4 - 'Täpsustus: kui oled programmeerimisega kokku puutunud, siis kuidas?'\n",
    "\n",
    "# Siin paljud on vastanud mitu valikut\n",
    "\n",
    "df, tiitel = col_stat(df_start, 4, True)\n",
    "plot_barh_perc(df, tiitel, 'vastuste % kõigist vastusest')"
   ]
  },
  {
   "cell_type": "code",
   "execution_count": null,
   "metadata": {
    "scrolled": false
   },
   "outputs": [],
   "source": [
    "# START - COL 5 - Oleta, millistes rollides võiksid sa tulevikus oma programmeerimisoskust otseselt või kaudselt rakendada. Vali need, mis tunduvad sulle enam-vähem realistlikud.\n",
    "\n",
    "df, tiitel = col_stat(df_start, 5, True)\n",
    "tiitel = 'Eeldatavad töörollid tulevikus'\n",
    "plot_barh_perc(df, tiitel, 'vastuste % kõigist vastusest', (3,6))\n",
    "# plot_pie(df, tiitel)"
   ]
  },
  {
   "cell_type": "code",
   "execution_count": null,
   "metadata": {
    "scrolled": false
   },
   "outputs": [],
   "source": [
    "# START - COL 6 - Mida see programm võiks teha ja miks sa nii arvad? Tegemist on väljamõeldud programmeerimiskeelega, seetõttu pole siin ei õiget ega valet vastust.\n",
    "\n",
    "# Ülesanne: Uuri järgnevat programmi:\n",
    "\n",
    "# let\n",
    "#   x = 2\n",
    "#   y = x + z\n",
    "#   z = 3\n",
    "# in\n",
    "#   show y\n",
    "\n",
    "# 2018 andmete põhjal excelis käsitsi grupeeritud (2019 peaks statistiliselt sarnane olema)\n",
    "\n",
    "col6 = [['5', 27.4], ['y või y tulemus', 26.2], ['error', 23.9], ['arvutab midagi', 9.4], ['vastus puudub', 7.1], ['2 + z', 2.3], ['2', 1.4], ['ei tea', 0.6], ['2 + 3', 0.6], ['x + z', 0.6], ['2z', 0.3], ['x + y', 0.3]]\n",
    "df = pd.DataFrame(col6, columns = ['vastus', 'vastanute %'])\n",
    "df.set_index('vastus', inplace = True)\n",
    "ax = df.plot(kind = 'barh', figsize = (8,4))\n",
    "ax.xaxis.set_major_formatter(mtick.PercentFormatter(decimals = 0))\n",
    "ax.invert_yaxis()\n",
    "ax.legend(loc='lower right')\n",
    "plt.title(df_start[aastad[0]].columns[6].split('?')[0] + '?')\n",
    "plt.show()\n",
    "display(df)"
   ]
  },
  {
   "cell_type": "code",
   "execution_count": null,
   "metadata": {
    "scrolled": false
   },
   "outputs": [],
   "source": [
    "# START - COL 7 - Mida sa kursuselt ootad? Kas arvad, et saab olema kerge? Raske? Igav? Huvitav? Miks? Midagi muud, mida soovid meile öelda? Siin saad ka täpsustada või kommenteerida eelmiste küsimuste vastuseid.\n",
    "\n",
    "# võtame tekstist mitteolulised märgid välja\n",
    "def puhasta_teksti_tulp(df, tulp):\n",
    "    data = \"\"\n",
    "    for item in df[tulp]:\n",
    "        if item != 'Andmed puuduvad' and isinstance(item, str) and len(item) > 1:\n",
    "            text = item.lower()\n",
    "            text = re.sub(':|;|\\(|\\)|-|!|\\?|,|\\.|\\*|&quot;', '\\n', text)\n",
    "            text = re.split('\\n', text)\n",
    "            data += \" \".join(text) + \" \"\n",
    "            data = re.sub(' +', ' ', data)\n",
    "    return data.strip()\n",
    "\n",
    "# koostame sõnapilve, kus on eemaldatud stopsõnad\n",
    "def sõnapilv(text, stops=\"\"):\n",
    "    # stopwords = set(STOPWORDS)\n",
    "    # stopwords.update([\"et\", \"ja\", \"ka\", \"kuid\", \"see\", \"aga\", \"ning\", \"siis\", \"kui\", \"on\", \"prog\", \"gramm\"])\n",
    "    stopwords = set([\"et\", \"ja\", \"ka\", \"kuid\", \"see\", \"aga\", \"sest\", \"ning\", \"siis\", \"kui\", \"on\"] + stops.split())\n",
    "    wordcloud = WordCloud(stopwords=stopwords).generate(text) # background_color=\"white\"\n",
    "    plt.figure(figsize=[10,10])\n",
    "    plt.imshow(wordcloud, interpolation='bilinear')\n",
    "    plt.axis(\"off\")\n",
    "    plt.show()\n",
    "    \n",
    "# Puhastame - otsime unikaalsed sõnad ja nende sagedused\n",
    "def top_sõnad(tekst):\n",
    "    sõnad = tekst.split()\n",
    "    freq = {}\n",
    "    \n",
    "    for sõna in sõnad:\n",
    "        if len(sõna) > 3: # vaatame vaid üle 3 tähelisi sõnu\n",
    "            if sõna in freq.keys():\n",
    "                freq[sõna] += 1\n",
    "            else:\n",
    "                võti = [k for k, v in freq.items() if k.startswith(sõna[:3])] # kui key-de hulgas on sõna, mille 3 esimest tähte on samad\n",
    "                if len(võti) > 0:\n",
    "                    freq[võti[0]] += 1 # siis loeme samaks sõnaks\n",
    "                else:\n",
    "                    freq[sõna] = 1\n",
    "\n",
    "    # teeme uue df-i sõnadest ja sagedustest\n",
    "    df = pd.DataFrame(freq.items(), columns=['sõna', 'sagedus'])\n",
    "    df.sort_values(by=['sagedus'], inplace=True, ascending=False)\n",
    "    df.reset_index(inplace=True)\n",
    "    df = df.drop('index', 1)\n",
    "    display(df.head(10)) # väljastame 10 esimest top sõna\n",
    "    \n",
    "    # Genereerime uue teksti sõnadest vastavalt sagedusele\n",
    "    text = \"\"\n",
    "    for index, row in df.iterrows():\n",
    "        text += (row['sõna'] + \" \") * row['sagedus']\n",
    "    data = text.split()\n",
    "    random.shuffle(data)\n",
    "    return \" \".join(data)\n",
    "\n",
    "# sõnapilv kirjavahemärkidest puhastatud tekstist\n",
    "def koosta_sõnapilv(dfs, tulp, topsõnad = False, stops=\"\", väljasta_text = False):\n",
    "    tulba_nimi = dfs[aastad[0]].columns[tulp]\n",
    "    \n",
    "    for aasta in aastad:\n",
    "        text = puhasta_teksti_tulp(dfs[aasta], tulba_nimi)\n",
    "        print(aasta, '(puhastamata):', tulba_nimi)\n",
    "        \n",
    "        sõnapilv(text, stops)\n",
    "        \n",
    "        if väljasta_text:\n",
    "            for item in list(dfs[aasta][tulba_nimi]):\n",
    "                if item != 'Andmed puuduvad':\n",
    "                    print(item)\n",
    "        \n",
    "        if topsõnad: # sõnapilv eraldi puhastatud tekstist, kus vaadatakse vaid top sõnu ja sarnased sõnad loetakse samaks\n",
    "            print('\\n', aasta, '(top sõnad):', tulba_nimi)\n",
    "            text = top_sõnad(text)\n",
    "            sõnapilv(text, stops)"
   ]
  },
  {
   "cell_type": "code",
   "execution_count": null,
   "metadata": {
    "scrolled": true
   },
   "outputs": [],
   "source": [
    "# Sõnapilved ei anna täpset vastust, kuid annavad märksõnad, millele tuleks rohkem rõhku panna ja mida\n",
    "# võiks vastuste seast otsida ja lähemalt uurida\n",
    "# Iga sõnapilve juures tuleb lõplikus töös ka väljavõte peamistest probleemidest ja tähelepanekutest\n",
    "# Samuti üritab leida uusi ideid või häid soovitusi\n",
    "# Suurte tekstivastuste hulga analüüs (kvalitatiivne) on peamiselt käsitsi parimate vastuste üles leidmine ja esile toomine\n",
    "# Lisan need vaid lõppdokumenti käsitsi.\n",
    "\n",
    "koosta_sõnapilv(df_start, 7, True)"
   ]
  },
  {
   "cell_type": "code",
   "execution_count": null,
   "metadata": {
    "scrolled": false
   },
   "outputs": [],
   "source": []
  },
  {
   "cell_type": "markdown",
   "metadata": {},
   "source": [
    "# OSA 3"
   ]
  },
  {
   "cell_type": "markdown",
   "metadata": {},
   "source": [
    "# IGANÄDALASED KÜSIMUSTIKUD"
   ]
  },
  {
   "cell_type": "code",
   "execution_count": null,
   "metadata": {
    "scrolled": false
   },
   "outputs": [],
   "source": [
    "nädalad = lehed[1:-2] # nädalaküsitlused (Start, Lõpp ja Hinded jäävad välja)\n",
    "\n",
    "sort_lihtsus = ['Väga lihtne', 'Lihtne', 'Pigem lihtne', 'Pigem keeruline', 'Keeruline', 'Väga keeruline', 'Andmed puuduvad']\n",
    "sort_aeg = ['alla 1 tunni', '1-2 tundi', '2-4 tundi', '4-8 tundi', '8-16 tundi', 'üle 8 tunni', 'üle 16 tunni', 'Andmed puuduvad']\n",
    "sort_aeg2 = ['alla 1 tunni', '1-2 tundi', '2-4 tundi', '4-8 tundi', '8-16 tundi', 'üle 16 tunni', 'Andmed puuduvad']\n",
    "\n",
    "def loe_andmed_nädal(): # loeme mitme aasta nädalaküsimustikud sisse\n",
    "    dfs = {}\n",
    "    size = {}\n",
    "    for aasta in aastad:\n",
    "        küsimustikud = []\n",
    "        suurused = []\n",
    "        xlsx = pd.ExcelFile(aasta + '.xlsx')\n",
    "        for nädal in nädalad:\n",
    "            df = pd.read_excel(xlsx, nädal)\n",
    "            df = df.fillna(\"Andmed puuduvad\")\n",
    "            df = df.replace(to_replace = '–', value = '-', regex = True) # eri aastatel eri märk\n",
    "            küsimustikud.append(df)\n",
    "            suurused.append(küsimustikud[-1].shape[0]) # df-i ridade arv\n",
    "        dfs[aasta] = küsimustikud\n",
    "        size[aasta] = suurused\n",
    "    return dfs, size\n",
    "\n",
    "df_nädal, size_nädal = loe_andmed_nädal()"
   ]
  },
  {
   "cell_type": "code",
   "execution_count": null,
   "metadata": {
    "scrolled": false
   },
   "outputs": [],
   "source": [
    "# Nädalaküsimustikke andmed\n",
    "print('Nädalaküsimustikke kokku:', len(nädalad))\n",
    "print('Nädalaküsimustikkude nimed:', nädalad)\n",
    "\n",
    "print('Nädalaküsimustikkudele vastanute arvud:')\n",
    "display(size_nädal)\n",
    "   \n",
    "print('Vastanute arv protsentides stardiküsitluse koguarvu suhtes:')\n",
    "df_nädal_prot = df_protsendid.drop(['Start', 'Lõpp'], axis=1) \n",
    "display(df_nädal_prot)\n",
    "plot_protsendid(df_nädal_prot)"
   ]
  },
  {
   "cell_type": "markdown",
   "metadata": {},
   "source": [
    "### Iganädalased küsimustikud"
   ]
  },
  {
   "cell_type": "code",
   "execution_count": null,
   "metadata": {
    "scrolled": false
   },
   "outputs": [],
   "source": [
    "# Nädalaküsitlustes (2-15) on iga nädal täpselt samad küsimused: \n",
    "# COL 3: Kuidas hindad enda edasijõudmist aines?\n",
    "# COL 4: Millistest üritustest sel nädalal osa võtsid?\n",
    "# COL 5: Kui palju aega kulutasid kodus selle nädala teemadele (sh materjali lugemine ja koduülesannete lahendamine)?\n",
    "# COL 6: Kui keeruline oli sinu jaoks selle nädala kodutöö?\n",
    "# COL 7: Üldine tagasiside (nt. mida võiks järgmises loengus või praktikumis käsitleda või teisiti teha)\n",
    "\n",
    "# KT1 puhul on alates COL5-st erinevad küsimused:\n",
    "# COL 5: Kui palju aega kulutasid kodus vaheeksamiks ettevalmistamisele (sh materjali lugemine ja harjutusülesannete lahendamine)?\n",
    "# COL 6: Kui keeruline oli vaheeksam sinu jaoks?\n",
    "# COL 7: Kuidas suhtud automaatkontrolli? Kas eelmise selleteemalise küsitlusega võrreldes on midagi muutunud?\n",
    "# COL 8: Üldine tagasiside (nt. mida võiks järgmises loengus või praktikumis käsitleda või teisiti teha)\n",
    "\n",
    "# KT2 puhul on alates COL5-st erinevad küsimused:\n",
    "# COL 5: Kui palju aega kulutasid kodus kontrolltööks ettevalmistamisele (sh materjali lugemine ja harjutusülesannete lahendamine)?\n",
    "# COL 6: Kui keeruline oli sinu jaoks kontrolltöö test?\n",
    "# COL 7: Kui keerulised olid sinu jaoks kontrolltöö programmeerimisülesanded?\n",
    "# COL 8: Millistel teemadel tunned ennast ebakindlalt?\n",
    "# COL 9: Kuidas tavaliselt käitud, kui koduülesande lahendamisel tekib tõrge?\n",
    "# COL10: Kuidas hindad automaatkontrolli kasulikkust?\n",
    "# COL11: Muud kommentaarid automaatkontrolli kohta\n",
    "# COL12: Üldine tagasiside (nt. mida võiks järgmises loengus või praktikumis käsitleda või teisiti teha)\n",
    "\n",
    "# Leiab tulbast unikaalsed kirjed, mitme vastuse variandi puhul on võimalik nende eraldamine ja sulgudes andmete kõrvaldamine\n",
    "def leia_unikaalsed(dfs, tulp, eraldi = False, sulgudesinfo = True):\n",
    "    unik = set()\n",
    "    for df in dfs:\n",
    "        for info in df[df.columns[tulp]].unique():\n",
    "            if not sulgudesinfo: # sulgudes info jätame välja\n",
    "                info = re.sub('\\(.*\\)', '', info).strip()\n",
    "                \n",
    "            if eraldi: # kui vastuse variante on mitu\n",
    "                for item in info.split('\\n'): \n",
    "                    unik.add(item)\n",
    "            else:\n",
    "                unik.add(info.replace('\\n', '+')) # kui soovime andmeid koos vaadata\n",
    "    unik = list(unik)\n",
    "    unik.sort()\n",
    "    return unik\n",
    "\n",
    "def loo_olekute_loendi_tabel(dfs, tulp, unikaalsed, eraldi = False):\n",
    "    read = []\n",
    "    for index, df in enumerate(dfs):\n",
    "        sõnastik = {}\n",
    "        info = []\n",
    "        for rida in df[df.columns[tulp]]:\n",
    "            if eraldi:\n",
    "                for item in rida.split('\\n'):\n",
    "                    info.append(item)\n",
    "            else:\n",
    "                info.append(rida.replace('\\n', '+'))\n",
    "\n",
    "            for unik in unikaalsed:\n",
    "                sõnastik[unik] = info.count(unik)\n",
    "        sõnastik['Kokku'] = df.shape[0] # len(info) - len mitme valikuga vastuse puhul annab vastsute koguarvu, kuid see pole hea võrdlus\n",
    "        read.append(sõnastik)\n",
    "    \n",
    "    return pd.DataFrame(read)\n",
    "\n",
    "def arvuta_tabel_protsentideks(tabel):\n",
    "    for col in tabel.columns[:-1]: # Kokku tulpa ei arvuta\n",
    "        tabel[col] = round(tabel[col] / tabel['Kokku'] * 100, 1) # arvutame andmed ümber protsentideks\n",
    "    return tabel\n",
    "\n",
    "# tulp, graafiku tüüp, mitu valikut eraldada, sulgudes info kõrvaldada, stacked bar, sortimise järjestus, legend pildilt välja\n",
    "def tabel_nädal(tulp, graafik = 'line', eralda = False, sulgudesinfo = True, stack = False, järjestus = '', legout = False):\n",
    "    for aasta in aastad:\n",
    "        küsimus = df_nädal[aasta][0].columns[tulp]\n",
    "        unik = leia_unikaalsed(df_nädal[aasta], tulp, eralda, sulgudesinfo)\n",
    "        tabel = loo_olekute_loendi_tabel(df_nädal[aasta], tulp, unik, eralda)\n",
    "        tabel.index = nädalad\n",
    "        \n",
    "        if len(tabel.columns) == len(järjestus):\n",
    "            tabel = tabel.reindex(columns = järjestus)\n",
    "        elif len(järjestus) > 0:\n",
    "            print('Sortimise viga')\n",
    "        \n",
    "        print(aasta, '(absoluutarvud):', küsimus)\n",
    "        display(tabel)\n",
    "        tabel = arvuta_tabel_protsentideks(tabel)\n",
    "        print(aasta, '(protsendid):', küsimus)\n",
    "        display(tabel)\n",
    "        plot_nädal(aasta + ': ' + küsimus, tabel, graafik, stack, legout)\n",
    "        \n",
    "def plot_nädal(pealkiri, tabel, graafik = 'line', stack = False, legout = False):\n",
    "    tabel = tabel.reset_index(drop = True, inplace = False)\n",
    "    \n",
    "    if graafik == 'bar' and not stack:\n",
    "        ax = tabel.iloc[:,0:-1].plot(kind = graafik, figsize = (10,5), stacked = stack, width = 1) # Kokku tulpa ei näita\n",
    "    else:\n",
    "        ax = tabel.iloc[:,0:-1].plot(kind = graafik, figsize = (10,5), stacked = stack) # Kokku tulpa ei näita\n",
    "    handles, labels = ax.get_legend_handles_labels()\n",
    "    \n",
    "    if legout: # legend pildilt välja\n",
    "        plt.legend(reversed(handles), reversed(labels), loc='center left', fancybox=True, framealpha=0.5, bbox_to_anchor=(1, 0.5))\n",
    "    else:\n",
    "        plt.legend(tabel.columns[:-1], loc='best', fancybox=True, framealpha=0.5) # parimal positsioonil\n",
    "    ax.yaxis.set_major_formatter(mtick.PercentFormatter(decimals = 0))\n",
    "    plt.ylabel('vastanute % kõigist vastusest')\n",
    "    plt.xlabel('nädala number')\n",
    "    plt.title(pealkiri)\n",
    "    plt.xticks(range(len(nädalad)), labels = nädalad)\n",
    "    plt.show()"
   ]
  },
  {
   "cell_type": "code",
   "execution_count": null,
   "metadata": {
    "scrolled": true
   },
   "outputs": [],
   "source": [
    "# N2-15 - COL 3 - Kuidas hindad enda edasijõudmist aines?\n",
    "tabel_nädal(3)"
   ]
  },
  {
   "cell_type": "code",
   "execution_count": null,
   "metadata": {
    "scrolled": false
   },
   "outputs": [],
   "source": [
    "# # Leiab kõigi kodutööde küsitluste vastanute nimed\n",
    "# def vastanute_nimed(dfs):\n",
    "#     nimed = []\n",
    "#     for df in dfs:\n",
    "#         nimed += list(df[df.columns[0]])\n",
    "#     return set(nimed)\n",
    "\n",
    "# def loo_staatuse_muutuse_tabel(dfs, tulp, unik):\n",
    "#     nimed = vastanute_nimed(dfs)\n",
    "#     asendused = {unik[i] : i for i in range(0, len(unik))}\n",
    "#     read = []\n",
    "# #     test = pd.DataFrame(dict.fromkeys(unik, []))\n",
    "\n",
    "#     for nimi in nimed:\n",
    "#         rida = [nimi] # V2 [nimi]\n",
    "#         for df in dfs:\n",
    "#             if nimi in list(df[df.columns[0]]): # kui õpilase andmed on selle kodutöö kohta olemas\n",
    "#                 loc = df.loc[df[df.columns[0]] == nimi].index[0]\n",
    "#                 staatus = asendused[df.iloc[loc][3]]\n",
    "#                 if staatus == 0 and len(rida) > 1: # andmed puuduvad\n",
    "#                     staatus = rida[-1] # viimane seis\n",
    "#                 rida.append(staatus)\n",
    "#             else:\n",
    "#                 if len(rida) == 1:\n",
    "#                     rida.append(0)\n",
    "#                 else:\n",
    "#                     rida.append(rida[-1]) # lisame eelmise seisu\n",
    "#         read.append(rida)\n",
    "        \n",
    "#     uusdf = pd.DataFrame(read, columns = [\"Nimi\"] + kodutööd)\n",
    "#     uusdf.set_index(\"Nimi\", inplace=True)\n",
    "#     return uusdf"
   ]
  },
  {
   "cell_type": "code",
   "execution_count": null,
   "metadata": {
    "scrolled": true
   },
   "outputs": [],
   "source": [
    "# JÄÄB AJAPUUDUSEL VÄLJA, KUNA SIIN OLEKS VAJA TÄIESTI UUS GRAAFIKU TÜÜP LEIUTADA, ET SEE LOETAV OLEKS\n",
    "\n",
    "# 2018 - kuidas käib ühest staatusest teise liikumine järgnevate kodutöödega\n",
    "# sisuliselt 3D maatriksi kujutamine 2D kujul; 3D (x,y,z) - kodutdöö_nr, edasijõudmine, kursusel osaleja\n",
    "# eeldus, et kui järgmine kord pole vastanud, siis on samas seisus, mis eelmine kord\n",
    "# sellele küsimusele peaks vastama iga kodutöö esitamise juures või iga loeng\n",
    "# seda võiks veel täiustada kaaludega, kus joone paksus sõltuks kaalust\n",
    "\n",
    "# unik = leia_unikaalsed(dfs8, 3, False)\n",
    "# df8 = loo_staatuse_muutuse_tabel(dfs8, 3, unik)\n",
    "# df8 = df8.T # transponeeritud tabel\n",
    "# df8.reset_index(inplace=True)\n",
    "# df8 = df8.drop('index', 1)\n",
    "\n",
    "# plt.figure(figsize=(10,5))\n",
    "# plt.plot(df8)\n",
    "# plt.ylabel('')\n",
    "# plt.xlabel('kodutöö number')\n",
    "# plt.title(aasta8 + ' muutused edasijõudmise olekus')\n",
    "# plt.xticks(range(len(kodutööd)), labels = kodutööd)\n",
    "# plt.yticks(range(len(unik)), labels = unik)\n",
    "# plt.show()\n",
    "\n",
    "# # 2019 - kuidas käib ühest staatusest teise liikumine järgnevate kodutöödega\n",
    "\n",
    "# unik = leia_unikaalsed(dfs9, 3, False)\n",
    "# df9 = loo_staatuse_muutuse_tabel(dfs9, 3, unik)\n",
    "# df9 = df9.T # transponeeritud tabel\n",
    "# df9.reset_index(inplace=True)\n",
    "# df9 = df9.drop('index', 1)\n",
    "\n",
    "# plt.figure(figsize=(10,5))\n",
    "# plt.plot(df9)\n",
    "# plt.ylabel('')\n",
    "# plt.xlabel('kodutöö number')\n",
    "# plt.title(aasta9 + ' muutused edasijõudmise olekus')\n",
    "# plt.xticks(range(len(kodutööd)), labels = kodutööd)\n",
    "# plt.yticks(range(len(unik)), labels = unik)\n",
    "# plt.show()"
   ]
  },
  {
   "cell_type": "code",
   "execution_count": null,
   "metadata": {
    "scrolled": true
   },
   "outputs": [],
   "source": [
    "# N2-15 - COL 4 - Millistest üritustest sel nädalal osa võtsid/võtad?\n",
    "# tabel_nädal(4) # andmed eraldamata - see liialt sigri-migri\n",
    "\n",
    "tabel_nädal(4, 'bar', True, True, False, '', True) # Andmed eraldatud, st Loengud, Praktikumid jms loetakse eraldi"
   ]
  },
  {
   "cell_type": "code",
   "execution_count": null,
   "metadata": {
    "scrolled": true
   },
   "outputs": [],
   "source": [
    "# N2-15 - COL 5 - Kui palju aega kulutasid kodus selle nädala teemadele (sh materjali lugemine ja koduülesannete lahendamine)?\n",
    "# tabel_nädal(5, 'line', False, False)\n",
    "# tabel_nädal(5, 'bar', False, False)\n",
    "tabel_nädal(5, 'bar', False, False, True, sort_aeg + ['Kokku'], True)"
   ]
  },
  {
   "cell_type": "markdown",
   "metadata": {},
   "source": [
    "### Nädalaküsitluste COL 5-7 ilma kontrolltööde tagasisideta"
   ]
  },
  {
   "cell_type": "code",
   "execution_count": null,
   "metadata": {
    "scrolled": false
   },
   "outputs": [],
   "source": [
    "# Eemaldame KT-d nädalaküsitlustest ja paneme need eraldi df-i, kuna siin lähevad küsitlused erinevaks\n",
    "if len(df_nädal[aastad[0]]) == len(lehed) - 3: # et topelt ei kustutaks, mitmekordsel käivitamisel\n",
    "    df_kt1 = {}\n",
    "    df_kt2 = {}\n",
    "    KT1 = nädalad.index('KT1')\n",
    "    KT2 = nädalad.index('KT2')\n",
    "    nädalad = np.delete(nädalad, [KT1, KT2]).tolist()\n",
    "\n",
    "    for aasta in aastad:\n",
    "        df_kt1[aasta] = df_nädal[aasta].pop(KT1)\n",
    "        df_kt2[aasta] = df_nädal[aasta].pop(KT2 - 1) # -1, kuna eelnevalt on pop tehtud"
   ]
  },
  {
   "cell_type": "code",
   "execution_count": null,
   "metadata": {
    "scrolled": true
   },
   "outputs": [],
   "source": [
    "# N2-15 - COL 6 - Kui keeruline oli sinu jaoks selle nädala kodutöö?\n",
    "tabel_nädal(6, 'bar', False, False, True, sort_lihtsus + ['Kokku'], True)"
   ]
  },
  {
   "cell_type": "code",
   "execution_count": null,
   "metadata": {
    "scrolled": false
   },
   "outputs": [],
   "source": [
    "def puhasta_teksti_loend(loend): # siia saada list\n",
    "    data = \"\"\n",
    "    for item in loend:\n",
    "        if item != 'Andmed puuduvad' and len(item) > 1:\n",
    "            if isinstance(item, list):\n",
    "                data += \" \" + puhasta_teksti_loend(item) # rekursioon\n",
    "            else:\n",
    "                text = item.lower()\n",
    "                text = re.sub(':|;|\\(|\\)|-|!|\\?|,|\\.|\\*|&quot;', '\\n', text)\n",
    "                text = re.split('\\n', text)\n",
    "                data += \" \".join(text) + \" \"\n",
    "            data = re.sub(' +', ' ', data)\n",
    "    return data.strip()\n",
    "\n",
    "def leia_tagasiside(dfs, tulp):\n",
    "    tekst = []\n",
    "    kogus = []\n",
    "    if isinstance(dfs, pd.DataFrame):\n",
    "        tekst = list(filter(lambda a: a != \"Andmed puuduvad\" and len(a) > 1, dfs[dfs.columns[tulp]]))\n",
    "        kogus.append(len(tekst))\n",
    "    else:\n",
    "        for df in dfs:\n",
    "            read = list(filter(lambda a: a != \"Andmed puuduvad\" and len(a) > 1, df[df.columns[tulp]]))\n",
    "            kogus.append(len(read))\n",
    "            tekst.append(read)\n",
    "    \n",
    "    return tekst, kogus\n",
    "\n",
    "def tagasiside(dfs, tulp, topsõnad = False):\n",
    "    tulba_nimi = dfs[aastad[0]][0].columns[tulp]\n",
    "    \n",
    "    for aasta in aastad:\n",
    "        tekst, kogus = leia_tagasiside(dfs[aasta], tulp)\n",
    "        print(aasta, ':', tulba_nimi, '\\n')\n",
    "        print(aasta, 'tagasiside kogus:', kogus, '\\n')\n",
    "        for index, sisu in enumerate(tekst):\n",
    "            print(aasta, ': nädal', nädalad[index], '(' + str(kogus[index]) + '): ', sisu)\n",
    "        text = puhasta_teksti_loend(tekst)\n",
    "        sõnapilv(text)\n",
    "\n",
    "        if topsõnad: # sõnapilv eraldi puhastatud tekstist, kus vaadatakse vaid top sõnu ja sarnased sõnad loetakse samaks\n",
    "            print(aasta, '(top sõnad):', tulba_nimi)\n",
    "            text = top_sõnad(text)\n",
    "            sõnapilv(text)"
   ]
  },
  {
   "cell_type": "code",
   "execution_count": null,
   "metadata": {
    "scrolled": true
   },
   "outputs": [],
   "source": [
    "# N2-15 - COL 7 - Üldine tagasiside (nt. mida võiks järgmises loengus või praktikumis käsitleda või teisiti teha)\n",
    "# Kirjalikku töösse lisan ka kokkuvõtte, mida rohkem esile tuuakse ja millele võiks eraldi tähelepanu pöörata\n",
    "# Kuna tagasiside andnute arv on kursusel osalejate arvust väga väike osa, siis vastused on väga seinast seina:\n",
    "# kes on 100% rahul kuni suure kurtmiseni, et väga raske või aega pole\n",
    "# Praktikumid: tempo liialt kiire, paaristöö ei sobi\n",
    "# Kodutööd: paljudel võtab kodutöö liialt aega\n",
    "# Loengud: mitmeid häirib arvutite kasutamine (mängimine jms) loengu ajal\n",
    "\n",
    "tagasiside(df_nädal, 7, True)"
   ]
  },
  {
   "cell_type": "markdown",
   "metadata": {},
   "source": [
    "# KONTROLLTÖÖ 1 COL 5-12"
   ]
  },
  {
   "cell_type": "code",
   "execution_count": null,
   "metadata": {
    "scrolled": false
   },
   "outputs": [],
   "source": [
    "# 2018 ja 2019 tulpade pealkirjad sai samaks pandud, kuna neil sisu on sama, kuid pealkirja tekstid veidike erinevad\n",
    "df_kt1['2018'].columns = df_kt1['2019'].columns\n",
    "for aasta in aastad:\n",
    "    df_kt1[aasta] = df_kt1[aasta].replace(to_replace = '–', value = '-', regex = True) # eri aastatel eri märk"
   ]
  },
  {
   "cell_type": "code",
   "execution_count": null,
   "metadata": {
    "scrolled": false
   },
   "outputs": [],
   "source": [
    "# KT1 - COL 5 - Kui palju aega kulutasid kodus kontrolltööks ettevalmistamisele (sh materjali lugemine ja harjutusülesannete lahendamine)?\n",
    "df, tiitel = col_stat(df_kt1, 5, False)\n",
    "tiitel = tiitel.split('(')[0][:-1] + '?'\n",
    "plot_barh_perc(df, tiitel, 'vastuste % kõigist vastusest', (8, 4), True, sort_aeg)"
   ]
  },
  {
   "cell_type": "code",
   "execution_count": null,
   "metadata": {
    "scrolled": false
   },
   "outputs": [],
   "source": [
    "# KT1 - COL 6 - Kui keeruline oli sinu jaoks kontrolltöö test?\n",
    "df, tiitel = col_stat(df_kt1, 6, False)\n",
    "plot_barh_perc(df, tiitel, 'vastuste % kõigist vastusest', (8, 4), True, sort_lihtsus)"
   ]
  },
  {
   "cell_type": "code",
   "execution_count": null,
   "metadata": {
    "scrolled": false
   },
   "outputs": [],
   "source": [
    "# KT1 - COL 7 - Kui keeruline olid sinu jaoks kontrolltöö programmeerimisülesannete osa?\n",
    "df, tiitel = col_stat(df_kt1, 7, False)\n",
    "plot_barh_perc(df, tiitel, 'vastuste % kõigist vastusest',(8, 4) , True, sort_lihtsus)"
   ]
  },
  {
   "cell_type": "code",
   "execution_count": null,
   "metadata": {
    "scrolled": false
   },
   "outputs": [],
   "source": [
    "# KT1 - COL 8 - Millistel teemadel tunned ennast ebakindlalt?\n",
    "# selles tulbas oli mitmeid muudatusi eri aastate vahel\n",
    "df_kt1['2018'] = df_kt1['2018'].replace(to_replace = 'vms\\.\\)', value = 'vms)', regex = True)\n",
    "df_kt1['2018'] = df_kt1['2018'].replace(to_replace = 'Olen ebakindel põhiliste arvutehetega', value = 'Olen ebakindel põhiliste arvutehete juures', regex = True)\n",
    "df_kt1['2018'] = df_kt1['2018'].replace(to_replace = 'Olen ebakindel põhiliste sõnetehetega', value = 'Olen ebakindel põhiliste sõnetehete juures', regex = True)\n",
    "df_kt1['2018'] = df_kt1['2018'].replace(to_replace = 'Programmeerimine tundub mulle üldiselt müstiline ja hirmutav', value = 'Programmeerimine tundub mulle üldse müstiline ja hirmutav', regex = True)\n",
    "df_kt1['2018'] = df_kt1['2018'].replace(to_replace = 'Avaldiste ja lausete olemust on veel segane', value = 'Avaldiste ja lausete olemus on veel segane', regex = True)\n",
    "\n",
    "df, tiitel = col_stat(df_kt1, 8, True)\n",
    "plot_barh_perc(df, tiitel, 'vastuste % kõigist vastusest', (4, 4))"
   ]
  },
  {
   "cell_type": "code",
   "execution_count": null,
   "metadata": {
    "scrolled": false
   },
   "outputs": [],
   "source": [
    "# KT1 - COL 9 - Kuidas tavaliselt käitud, kui koduülesande lahendamisel tekib tõrge?\n",
    "df_kt1['2018'] = df_kt1['2018'].replace(to_replace = 'Küsin abi sõbralt', value = 'Küsin abi sõbralt või kursusekaaslastelt', regex = True)\n",
    "\n",
    "df, tiitel = col_stat(df_kt1, 9, True)\n",
    "plot_barh_perc(df, tiitel, 'vastuste % kõigist vastusest')"
   ]
  },
  {
   "cell_type": "code",
   "execution_count": null,
   "metadata": {
    "scrolled": false
   },
   "outputs": [],
   "source": [
    "# KT1 - COL 10 - Kuidas hindad automaatkontrolli kasulikkust?\n",
    "df_kt1['2018'] = df_kt1['2018'].replace(to_replace = 'Automaatkontroll oma “tähenärimisega” pigem segab', value = 'Automaatkontroll oma „tähenärimisega” pigem segab', regex = True)\n",
    "\n",
    "df, tiitel = col_stat(df_kt1, 10, True)\n",
    "plot_barh_perc(df, tiitel, 'vastuste % kõigist vastusest')"
   ]
  },
  {
   "cell_type": "code",
   "execution_count": null,
   "metadata": {
    "scrolled": true
   },
   "outputs": [],
   "source": [
    "# KT1 - COL 11 - Muud kommentaarid automaatkontrolli kohta\n",
    "koosta_sõnapilv(df_kt1, 11, True, 'automaatkontroll automaatkontrolli automaatkontrollist', True)"
   ]
  },
  {
   "cell_type": "code",
   "execution_count": null,
   "metadata": {
    "scrolled": true
   },
   "outputs": [],
   "source": [
    "# KT1 - COL 12 - Üldine tagasiside (nt. mida võiks järgmises loengus või praktikumis käsitleda või teisiti teha)\n",
    "koosta_sõnapilv(df_kt1, 12, True, '', True)"
   ]
  },
  {
   "cell_type": "markdown",
   "metadata": {},
   "source": [
    "### KONTROLLTÖÖ 2 COL 5-8"
   ]
  },
  {
   "cell_type": "code",
   "execution_count": null,
   "metadata": {
    "scrolled": false
   },
   "outputs": [],
   "source": [
    "# 2018 ja 2019 tulpade pealkirjad sai samaks pandud, kuna neil sisu on sama, kuid pealkirja tekstid veidike erinevad\n",
    "df_kt2['2018'].columns = df_kt2['2019'].columns # ühtlustame küsimused, kuna seal sõnade järjestus kohati erinev\n",
    "for aasta in aastad:\n",
    "    df_kt2[aasta] = df_kt2[aasta].replace(to_replace = '–', value = '-', regex = True) # eri aastatel eri märk\n",
    "    df_kt2[aasta] = df_kt2[aasta].replace(to_replace = 'ülle', value = 'üle', regex = True) # ühes aastas typo"
   ]
  },
  {
   "cell_type": "code",
   "execution_count": null,
   "metadata": {},
   "outputs": [],
   "source": [
    "# KT2 - COL 5 - Kui palju aega kulutasid kodus kontrolltööks ettevalmistamisele (sh materjali lugemine ja harjutusülesannete lahendamine)?\n",
    "df, tiitel = col_stat(df_kt2, 5, False)\n",
    "tiitel = tiitel.split('(')[0][:-1] + '?'\n",
    "plot_barh_perc(df, tiitel, 'vastuste % kõigist vastusest', (8, 4), True, sort_aeg2[:-1])"
   ]
  },
  {
   "cell_type": "code",
   "execution_count": null,
   "metadata": {},
   "outputs": [],
   "source": [
    "# KT2 - COL 6 - Kui keeruline oli sinu jaoks kontrolltöö?\n",
    "df, tiitel = col_stat(df_kt2, 6, False)\n",
    "plot_barh_perc(df, tiitel, 'vastuste % kõigist vastusest', (8, 4), True, sort_lihtsus[:-1])"
   ]
  },
  {
   "cell_type": "code",
   "execution_count": null,
   "metadata": {
    "scrolled": true
   },
   "outputs": [],
   "source": [
    "# KT2 - COL 7 - Kuidas suhtud automaatkontrolli? Kas su suhtumine on kursuse jooksul muutunud?\n",
    "koosta_sõnapilv(df_kt2, 7, True, 'automaatkontroll', True)"
   ]
  },
  {
   "cell_type": "code",
   "execution_count": null,
   "metadata": {
    "scrolled": true
   },
   "outputs": [],
   "source": [
    "# KT2 - COL 8 - Üldine tagasiside (nt mida võiks järgmises loengus või praktikumis käsitleda või teisiti teha)\n",
    "koosta_sõnapilv(df_kt2, 8, True, '', True)"
   ]
  },
  {
   "cell_type": "markdown",
   "metadata": {},
   "source": [
    "# OSA 4"
   ]
  },
  {
   "cell_type": "markdown",
   "metadata": {},
   "source": [
    "# LÕPUKÜSITLUS"
   ]
  },
  {
   "cell_type": "code",
   "execution_count": null,
   "metadata": {
    "scrolled": false
   },
   "outputs": [],
   "source": [
    "# COL\t3\tTooge välja õppetegevus, mis teie õppimist kõige rohkem toetas. Miks te seda kõige toetavamaks pidasite?\n",
    "# COL\t4\tTooge välja õppetegevus, mis teie õppimist kõige vähem toetas. Selgitage, mis võiks selle juures olla teisiti, et toetus oleks suurem.\n",
    "# COL\t5\tIgal nädalal oli 2 tundi loenguid teisipäeviti ja 2 tundi praktikume neljapäeviti ning lisaks konsultatsioon kolmapäeviti. Millised on teie ettepanekud selle struktuuri muutmise kohta?\n",
    "# COL\t6\tPalun kirjutage kommentaare kontrolltööde kohta.\n",
    "# COL\t7\tPalun kirjutage kommentaare eksamile pääsemise tingimuste kohta.\n",
    "# COL\t8\tPalun kirjutage kommentaare eksami kohta.\n",
    "# COL\t9\tMil viisil enamasti osalesite loengutes semestri alguses (1.-6. nädal)?\n",
    "# COL\t10\tMil viisil enamasti osalesite loengutes semestri keskel (7.-12. nädal)?\n",
    "# COL\t11\tMil viisil enamasti osalesite loengutes semestri lõpus (13.-16. nädal)?\n",
    "# COL\t12\tMiks te just nii käitusite? Kui semestri jooksul viisi muutsite, siis miks?\n",
    "# COL\t13\tLoeng on tänapäeval programmeerimise kursusel mõttetu.\n",
    "# COL\t14\tLoeng oleks kasulikum kui seda korraldataks teistmoodi.\n",
    "# COL\t15\tSoovi korral kirjutage kommentaare loengu kohta.\n",
    "# COL\t16\tKäisin loengus või vaatasin loengu videot põhiliselt selleks, et punkte saada.\n",
    "# COL\t17\tKäiksin loengus või vaataksin loengu videot ka siis, kui selle eest üldse punkte ei antaks.\n",
    "# COL\t18\tKäiksin loengus või vaataksin loengu videot tihedamalt, kui punkte antaks rohkem.\n",
    "# COL\t19\tTegin loengus (või loengu videot vaadates) märkmeid.\n",
    "# COL\t20\tSoovi korral täpsustage, kuidas tegite märkmeid loengus või loengu videot vaadates.\n",
    "# COL\t21\tOleksin rohkem märkmeid teinud, kui nutiseadmed (telefonid, arvutid) oleksid olnud lubatud\n",
    "# COL\t22\tOleksin  nutiseadmeid (telefone, arvuteid) kasutanud asjakohaselt, kui kasutamine oleks lubatud.\n",
    "# COL\t23\tOleksin nutiseadmeid (telefone, arvuteid) kasutanud kõrvalisteks tegevusteks, kui kasutamine oleks lubatud.\n",
    "# COL\t24\tPaljud üliõpilased loengus siiski kasutasid nutiseadmeid (telefone, arvuteid).\n",
    "# COL\t25\tSoovi korral kommenteerige nutiseadmete (telefonide, arvutite) lubamist/keelamist.\n",
    "# COL\t26\tKlikkerite kasutamine oli asjakohane.\n",
    "# COL\t27\tKllikkerite kasutamine aitas vältida tähelepanu hajumist.\n",
    "# COL\t28\tKlikkerite kasutamine aitas tõsta huvi loengus võetud teema vastu.\n",
    "# COL\t29\tKlikkerid aitasid kaasa kriitilise mõtlemise arendamisel.\n",
    "# COL\t30\tKlikkerite kasutus julgustas loengutes osalema.\n",
    "# COL\t31\tLoengu videosse võiks olla integreeritud küsimusi, millele saab interaktiivselt vastata.\n",
    "# COL\t32\tSoovi korral kommenteerige klikkerite kasutamist.\n",
    "# COL\t33\tPalun lisage veel kommentaare, mis aitaksid kursust arendada."
   ]
  },
  {
   "cell_type": "code",
   "execution_count": null,
   "metadata": {
    "scrolled": false
   },
   "outputs": [],
   "source": [
    "# Loeme sisse kaks lehte ja liidame kokku üheks DF-ks\n",
    "# ei loeta neid, kellel puudub rühm ja seega ka hilisemad andmed\n",
    "# sai kontrollitud, et ei oleks mitut sama nimega\n",
    "\n",
    "df_lõpp = loe_andmed('Lõpp')\n",
    "\n",
    "osalejad = []\n",
    "for aasta in aastad:\n",
    "    start = df_start[aasta].shape[0]\n",
    "    lõpp = df_lõpp[aasta].shape[0]\n",
    "    p0 = df_startstat[aasta]['Punktid > 0']\n",
    "    p50 = df_startstat[aasta]['Punktid $\\geq$ 50']\n",
    "    osalejad.append([start, lõpp, round(lõpp / start * 100, 1), p0, p50, round(p50 / start * 100, 1)])\n",
    "    print (aasta, 'lõpuküsitlusele vastanuid:', lõpp)"
   ]
  },
  {
   "cell_type": "code",
   "execution_count": null,
   "metadata": {
    "scrolled": false
   },
   "outputs": [],
   "source": [
    "# Üldine - alguse ja lõpu võrdlus, lõpu osalus stardi suhtes, lõpuni jõudjad (punktid >= 50) ning pos. lõpetajate % stardi suhtes\n",
    "df_kokkuvõte = pd.DataFrame(osalejad, index = aastad, columns = ['stardiküsitlus', 'lõpuküsitlus', 'lõpp/start %', 'punktid > 0', 'punktid $\\geq$ 50', 'p50/start %'])\n",
    "display(df_kokkuvõte)"
   ]
  },
  {
   "cell_type": "code",
   "execution_count": null,
   "metadata": {
    "scrolled": false
   },
   "outputs": [],
   "source": [
    "# lõpuküsitluse ja positiivsel lõpetanute protsent stardiküsitluse koguarvu (100%) suhtes\n",
    "df = df_kokkuvõte[['lõpuküsitlus', 'punktid $\\geq$ 50']].copy()\n",
    "for col in df.columns:\n",
    "    df[col] = round(df[col] / df_kokkuvõte['stardiküsitlus'] * 100, 1) # arvutame andmed ümber protsentideks\n",
    "plot_barh_perc(df.T, 'Positiivse hindega lõpetanud ja lõpuküsitlusele vastanud', 'stardiküsitluses osalenute koguarvu suhtes', (8,2), False)"
   ]
  },
  {
   "cell_type": "code",
   "execution_count": null,
   "metadata": {
    "scrolled": true
   },
   "outputs": [],
   "source": [
    "# Lõpp - COL 3 - Tooge välja õppetegevus, mis teie õppimist kõige rohkem toetas. Miks te seda kõige toetavamaks pidasite?\n",
    "koosta_sõnapilv(df_lõpp, 3, True, '', True)"
   ]
  },
  {
   "cell_type": "code",
   "execution_count": null,
   "metadata": {
    "scrolled": true
   },
   "outputs": [],
   "source": [
    "# Lõpp - COL 4 - Tooge välja õppetegevus, mis teie õppimist kõige vähem toetas. Selgitage, mis võiks selle juures olla teisiti, et toetus oleks suurem.\n",
    "# koosta_sõnapilv(df_lõpp, 4, True, 'üles praktikum loeng loengu enda sest väga minu loengud praktikumi')\n",
    "koosta_sõnapilv(df_lõpp, 4, True, '', True)"
   ]
  },
  {
   "cell_type": "code",
   "execution_count": null,
   "metadata": {
    "scrolled": true
   },
   "outputs": [],
   "source": [
    "# Lõpp - COL 5 - Igal nädalal oli 2 tundi loenguid teisipäeviti ja 2 tundi praktikume neljapäeviti ning lisaks konsultatsioon kolmapäeviti. Millised on teie ettepanekud selle struktuuri muutmise kohta?\n",
    "# koosta_sõnapilv(df_lõpp, 5, True, 'loeng praktikum struktuur loengu praktikumi struktuur võiks olla enda võiks konsultatsioon oleks minu üles')\n",
    "koosta_sõnapilv(df_lõpp, 5, True, '', True)"
   ]
  },
  {
   "cell_type": "code",
   "execution_count": null,
   "metadata": {
    "scrolled": true
   },
   "outputs": [],
   "source": [
    "# Lõpp - COL 6 - Palun kirjutage kommentaare kontrolltööde kohta.\n",
    "# koosta_sõnapilv(df_lõpp, 6, True, 'roll kontroll kontrolltöö arvestuslik tööd kontrolltööd olid punkti olid ülesarvestusliku ülesande kontrolltööde')\n",
    "koosta_sõnapilv(df_lõpp, 6, True, '', True)"
   ]
  },
  {
   "cell_type": "code",
   "execution_count": null,
   "metadata": {
    "scrolled": true
   },
   "outputs": [],
   "source": [
    "# Lõpp - COL 7 - Palun kirjutage kommentaare eksamile pääsemise tingimuste kohta.\n",
    "# koosta_sõnapilv(df_lõpp, 7, True, 'tingimus tingimuse eksam tingimused eksami eksamil pääs eksamile pääsemis pääsemise olid')\n",
    "koosta_sõnapilv(df_lõpp, 7, True, '', True)"
   ]
  },
  {
   "cell_type": "code",
   "execution_count": null,
   "metadata": {
    "scrolled": true
   },
   "outputs": [],
   "source": [
    "# Lõpp - COL 8 - Palun kirjutage kommentaare eksami kohta.\n",
    "# koosta_sõnapilv(df_lõpp, 8, True, 'eksam üles eksami arvestus arvestuslik punkti roll arvestusliku ülesande väga test ülesanne')\n",
    "koosta_sõnapilv(df_lõpp, 8, True, '', True)"
   ]
  },
  {
   "cell_type": "code",
   "execution_count": null,
   "metadata": {
    "scrolled": false
   },
   "outputs": [],
   "source": [
    "def tabel_abs_prot(tulp, mitu_tulpa_koos = 1, nimed = '', pealkiri = ''):\n",
    "    for aasta in aastad:\n",
    "        küsimus = df_lõpp[aasta].columns[tulp]\n",
    "        ser = []\n",
    "\n",
    "        for i in range(mitu_tulpa_koos):\n",
    "            ser.append(df_lõpp[aasta][df_lõpp[aasta].columns[tulp + i]].value_counts())\n",
    "        df = pd.DataFrame(ser)\n",
    "        df['Kokku'] = df.sum(axis = 1)\n",
    "        \n",
    "        if len(df.index) == len(nimed):\n",
    "            df = df.set_index([pd.Index(nimed)])\n",
    "        \n",
    "        print(aasta, '(absoluutarvud):', küsimus)\n",
    "        display(df)\n",
    "        df = arvuta_tabel_protsentideks(df)\n",
    "        print(aasta, '(protsendid):', küsimus)        \n",
    "        display(df)\n",
    "        plot_prot(df, aasta, pealkiri)\n",
    "        \n",
    "def plot_prot(tabel, aasta, pealkiri = 'Küsimustikele tagasiside andnute arv protsentides'):\n",
    "    ax = tabel.iloc[:,0:-1].plot(kind = 'barh', figsize=(8,2), stacked = True) # Kokku tulpa ei näita\n",
    "    ax.invert_yaxis() # õigetpidi järjestus\n",
    "    plt.legend(tabel.columns[:-1], loc='center left', fancybox=True, framealpha=0.5, bbox_to_anchor=(1, 0.5))\n",
    "    ax.xaxis.set_major_formatter(mtick.PercentFormatter(decimals = 0))\n",
    "    plt.xlabel('vastanute % kõigist vastusest')\n",
    "    plt.title(aasta + ' : ' + pealkiri)\n",
    "    plt.show()"
   ]
  },
  {
   "cell_type": "code",
   "execution_count": null,
   "metadata": {
    "scrolled": false
   },
   "outputs": [],
   "source": [
    "# Lõpp - COL 9 - Mil viisil enamasti osalesite loengutes semestri alguses (1.-6. nädal)?\n",
    "# Lõpp - COL10 - Mil viisil enamasti osalesite loengutes semestri keskel (7.-12. nädal)?\n",
    "# Lõpp - COL11 - Mil viisil enamasti osalesite loengutes semestri lõpus (13.-16. nädal)?\n",
    "\n",
    "tabel_abs_prot(9, 3, ['1.-6. nädal', '7.-12. nädal', '13.-16. nädal'], 'Mil viisil enamasti osalesite loengutes?')"
   ]
  },
  {
   "cell_type": "code",
   "execution_count": null,
   "metadata": {
    "scrolled": true
   },
   "outputs": [],
   "source": [
    "# Lõpp - COL 12 - Miks te just nii käitusite? Kui semestri jooksul viisi muutsite, siis miks?\n",
    "# koosta_sõnapilv(df_lõpp, 12, True, 'loeng loengu video koha kohal loengut loengus loengute loengutes sest ning siis video videot kuna')\n",
    "koosta_sõnapilv(df_lõpp, 12, True, '', True)"
   ]
  },
  {
   "cell_type": "code",
   "execution_count": null,
   "metadata": {},
   "outputs": [],
   "source": [
    "sort_skaala = ['ei käinud loengus', 'pole üldse nõus', '1', '2', '3', '4', '5', '6', '7', 'olen täiesti nõus']\n",
    "\n",
    "def col_stat_lõpp(tulp):\n",
    "    data = {}\n",
    "    tulba_nimi = df_lõpp[aastad[0]].columns[tulp]\n",
    "    for aasta in aastad:\n",
    "        df = df_lõpp[aasta]\n",
    "        df = df.replace(['0', 0], 'ei käinud loengus') # 2019 aastal on selle koha peal 0\n",
    "        df = df.fillna(\"Andmed puuduvad\") # np.nan asendame, et andmed puuduvad\n",
    "        data[aasta] = df[tulba_nimi].value_counts() # saab ka df.groupby(tulp)[tulp].agg('count')\n",
    "    \n",
    "        if 'Andmed puuduvad' in data[aasta]: # 2018 on numbrilised andmed Moodle'st kaotsi läinud, siis puuduvaid andmeid ei vaata\n",
    "            data[aasta] = data[aasta].drop('Andmed puuduvad')\n",
    "    \n",
    "        data[aasta + ' %'] = round(data[aasta] / df_lõpp[aasta].shape[0]  * 100, 1) # vana kõikide vastustega: round(data[aasta] / data[aasta].sum() * 100, 1)\n",
    "\n",
    "    df = pd.DataFrame(data)\n",
    "    df = df.reindex(sorted(df.index, key=lambda x: sort_skaala.index(x))) # siin teeme uue sorditud indexi vaid leiduvatest ridadest\n",
    "    return df, tulba_nimi"
   ]
  },
  {
   "cell_type": "code",
   "execution_count": null,
   "metadata": {
    "scrolled": false
   },
   "outputs": [],
   "source": [
    "# Lõpp - COL 13 - Loeng on tänapäeval programmeerimise kursusel mõttetu.\n",
    "\n",
    "# NB!!!! Siit edasi on osa 2018 aasta andmeid puudu (väidetavalt moodlest kaotsi läinud)\n",
    "# Reimo poolt antud skaala: (0) ei käinud loengus, (1) pole üldse nõus, ..., (7) olen täiesti nõus\n",
    "\n",
    "df, tiitel = col_stat_lõpp(13)\n",
    "plot_barh_perc(df, tiitel, 'vastuste % kõigist vastusest')"
   ]
  },
  {
   "cell_type": "code",
   "execution_count": null,
   "metadata": {
    "scrolled": false
   },
   "outputs": [],
   "source": [
    "# Lõpp - COL 14 - Loeng oleks kasulikum kui seda korraldataks teistmoodi.\n",
    "\n",
    "df, tiitel = col_stat_lõpp(14)\n",
    "plot_barh_perc(df, tiitel, 'vastuste % kõigist vastusest')"
   ]
  },
  {
   "cell_type": "code",
   "execution_count": null,
   "metadata": {
    "scrolled": true
   },
   "outputs": [],
   "source": [
    "# Lõpp - COL 15 - Soovi korral kirjutage kommentaare loengu kohta.\n",
    "koosta_sõnapilv(df_lõpp, 15, True, '', True)"
   ]
  },
  {
   "cell_type": "code",
   "execution_count": null,
   "metadata": {
    "scrolled": false
   },
   "outputs": [],
   "source": [
    "# Lõpp - COL 16 - Käisin loengus või vaatasin loengu videot põhiliselt selleks, et punkte saada.\n",
    "\n",
    "df, tiitel = col_stat_lõpp(16)\n",
    "plot_barh_perc(df, tiitel, 'vastuste % kõigist vastusest')"
   ]
  },
  {
   "cell_type": "code",
   "execution_count": null,
   "metadata": {
    "scrolled": false
   },
   "outputs": [],
   "source": [
    "# Lõpp - COL 17 - Käiksin loengus või vaataksin loengu videot ka siis, kui selle eest üldse punkte ei antaks.\n",
    "\n",
    "df, tiitel = col_stat_lõpp(17)\n",
    "plot_barh_perc(df, tiitel, 'vastuste % kõigist vastusest', (8, 4), True, '', None)"
   ]
  },
  {
   "cell_type": "code",
   "execution_count": null,
   "metadata": {
    "scrolled": false
   },
   "outputs": [],
   "source": [
    "# Lõpp - COL 18 - Käiksin loengus või vaataksin loengu videot tihedamalt, kui punkte antaks rohkem.\n",
    "\n",
    "df, tiitel = col_stat_lõpp(18)\n",
    "plot_barh_perc(df, tiitel, 'vastuste % kõigist vastusest')"
   ]
  },
  {
   "cell_type": "code",
   "execution_count": null,
   "metadata": {
    "scrolled": false
   },
   "outputs": [],
   "source": [
    "# Lõpp - COL 19 - Tegin loengus (või loengu videot vaadates) märkmeid.\n",
    "\n",
    "df, tiitel = col_stat_lõpp(19)\n",
    "plot_barh_perc(df, tiitel, 'vastuste % kõigist vastusest')"
   ]
  },
  {
   "cell_type": "code",
   "execution_count": null,
   "metadata": {
    "scrolled": true
   },
   "outputs": [],
   "source": [
    "# Lõpp - COL 20 - Soovi korral täpsustage, kuidas tegite märkmeid loengus või loengu videot vaadates.\n",
    "koosta_sõnapilv(df_lõpp, 20, True, '', True)"
   ]
  },
  {
   "cell_type": "code",
   "execution_count": null,
   "metadata": {
    "scrolled": false
   },
   "outputs": [],
   "source": [
    "# Lõpp - COL 21 - Oleksin rohkem märkmeid teinud, kui nutiseadmed (telefonid, arvutid) oleksid olnud lubatud\n",
    "\n",
    "df, tiitel = col_stat_lõpp(21)\n",
    "plot_barh_perc(df, tiitel, 'vastuste % kõigist vastusest')"
   ]
  },
  {
   "cell_type": "code",
   "execution_count": null,
   "metadata": {
    "scrolled": false
   },
   "outputs": [],
   "source": [
    "# Lõpp - COL 22 - Oleksin  nutiseadmeid (telefone, arvuteid) kasutanud asjakohaselt, kui kasutamine oleks lubatud.\n",
    "\n",
    "df, tiitel = col_stat_lõpp(22)\n",
    "plot_barh_perc(df, tiitel, 'vastuste % kõigist vastusest')"
   ]
  },
  {
   "cell_type": "code",
   "execution_count": null,
   "metadata": {
    "scrolled": false
   },
   "outputs": [],
   "source": [
    "# Lõpp - COL 23 - Oleksin nutiseadmeid (telefone, arvuteid) kasutanud kõrvalisteks tegevusteks, kui kasutamine oleks lubatud.\n",
    "\n",
    "df, tiitel = col_stat_lõpp(23)\n",
    "plot_barh_perc(df, tiitel, 'vastuste % kõigist vastusest', (8, 4), True, '', None)"
   ]
  },
  {
   "cell_type": "code",
   "execution_count": null,
   "metadata": {},
   "outputs": [],
   "source": [
    "# Lõpp - COL 24 - Paljud üliõpilased loengus siiski kasutasid nutiseadmeid (telefone, arvuteid).\n",
    "\n",
    "df, tiitel = col_stat_lõpp(24)\n",
    "plot_barh_perc(df, tiitel, 'vastuste % kõigist vastusest')"
   ]
  },
  {
   "cell_type": "code",
   "execution_count": null,
   "metadata": {
    "scrolled": true
   },
   "outputs": [],
   "source": [
    "# Lõpp - COL 25 - Soovi korral kommenteerige nutiseadmete (telefonide, arvutite) lubamist/keelamist.\n",
    "koosta_sõnapilv(df_lõpp, 25, True, '', True)"
   ]
  },
  {
   "cell_type": "code",
   "execution_count": null,
   "metadata": {
    "scrolled": false
   },
   "outputs": [],
   "source": [
    "# Lõpp - COL 26 - Klikkerite kasutamine oli asjakohane.\n",
    "\n",
    "df, tiitel = col_stat_lõpp(26)\n",
    "plot_barh_perc(df, tiitel, 'vastuste % kõigist vastusest')"
   ]
  },
  {
   "cell_type": "code",
   "execution_count": null,
   "metadata": {
    "scrolled": false
   },
   "outputs": [],
   "source": [
    "# Lõpp - COL 27 - Klikkerite kasutamine aitas vältida tähelepanu hajumist.\n",
    "\n",
    "df, tiitel = col_stat_lõpp(27)\n",
    "tiitel = 'Klikkerite kasutamine aitas vältida tähelepanu hajumist.'\n",
    "plot_barh_perc(df, tiitel, 'vastuste % kõigist vastusest')"
   ]
  },
  {
   "cell_type": "code",
   "execution_count": null,
   "metadata": {
    "scrolled": false
   },
   "outputs": [],
   "source": [
    "# Lõpp - COL 28 - Klikkerite kasutamine aitas tõsta huvi loengus võetud teema vastu.\n",
    "\n",
    "df, tiitel = col_stat_lõpp(28)\n",
    "plot_barh_perc(df, tiitel, 'vastuste % kõigist vastusest')"
   ]
  },
  {
   "cell_type": "code",
   "execution_count": null,
   "metadata": {
    "scrolled": false
   },
   "outputs": [],
   "source": [
    "# Lõpp - COL 29 - Klikkerid aitasid kaasa kriitilise mõtlemise arendamisel.\n",
    "\n",
    "df, tiitel = col_stat_lõpp(29)\n",
    "plot_barh_perc(df, tiitel, 'vastuste % kõigist vastusest')"
   ]
  },
  {
   "cell_type": "code",
   "execution_count": null,
   "metadata": {
    "scrolled": false
   },
   "outputs": [],
   "source": [
    "# Lõpp - COL 30 - Klikkerite kasutus julgustas loengutes osalema.\n",
    "\n",
    "df, tiitel = col_stat_lõpp(30)\n",
    "plot_barh_perc(df, tiitel, 'vastuste % kõigist vastusest')"
   ]
  },
  {
   "cell_type": "code",
   "execution_count": null,
   "metadata": {
    "scrolled": false
   },
   "outputs": [],
   "source": [
    "# Lõpp - COL 31 - Loengu videosse võiks olla integreeritud küsimusi, millele saab interaktiivselt vastata.\n",
    "\n",
    "df, tiitel = col_stat_lõpp(31)\n",
    "plot_barh_perc(df, tiitel, 'vastuste % kõigist vastusest')"
   ]
  },
  {
   "cell_type": "code",
   "execution_count": null,
   "metadata": {
    "scrolled": true
   },
   "outputs": [],
   "source": [
    "# COL 32 - Soovi korral kommenteerige klikkerite kasutamist\n",
    "# koosta_sõnapilv(df_lõpp, 32, True, 'klikker klikkeri klikkerit klikkerid')\n",
    "koosta_sõnapilv(df_lõpp, 32, True, '', True)"
   ]
  },
  {
   "cell_type": "code",
   "execution_count": null,
   "metadata": {
    "scrolled": true
   },
   "outputs": [],
   "source": [
    "# COL 33 - Palun lisage veel kommentaare, mis aitaksid kursust arendada.\n",
    "koosta_sõnapilv(df_lõpp, 33, True, '', True)"
   ]
  },
  {
   "cell_type": "code",
   "execution_count": null,
   "metadata": {},
   "outputs": [],
   "source": [
    "# # TESTIME grupeeritud vastuseid\n",
    "\n",
    "# def loe_andmed_grupp(leht, lisa_hinded = False):\n",
    "#     df = {}\n",
    "#     for aasta in aastad:\n",
    "#         xlsx = pd.ExcelFile(aasta + ' grupp.xlsx')\n",
    "#         df_l = pd.read_excel(xlsx, leht)\n",
    "#         df_l = df_l.fillna('Andmed puuduvad')\n",
    "#         if lisa_hinded:\n",
    "#             df_h = pd.read_excel(xlsx, 'Hinded')\n",
    "#             df_h = df_h.replace(to_replace = '-', value = 0)\n",
    "#             df_h['Kasutaja täisnimi'] = df_h.Eesnimi + ' ' + df_h.Perenimi\n",
    "#             df[aasta] = pd.merge(df_l, df_h, on = 'Kasutaja täisnimi', how='left').fillna(0) # ja paneme need kokku\n",
    "#         else:\n",
    "#             df[aasta] = df_l\n",
    "# #         len(df[aasta][df[aasta].duplicated(['Kasutaja täisnimi'])]) # duplikaatide kontroll\n",
    "#     return df\n",
    "\n",
    "# df_grupp = loe_andmed_grupp('Lõpp')\n",
    "\n",
    "# def col_stat_grupp(tulp, tükelda = False, sordi_index = False):\n",
    "#     data = {}\n",
    "#     tulba_nimi = df_grupp[aastad[0]].columns[tulp]\n",
    "#     for aasta in aastad:\n",
    "#         df = df_grupp[aasta]\n",
    "#         df = df.replace(['0', 0], np.nan) # 0 andmed asendame np.nan\n",
    "#         df = df.fillna(\"Andmed puuduvad\") # np.nan asendame, et andmed puuduvad\n",
    "#         if tükelda: # kui ühes lahtris on mitmed andmed, siis tükeldame\n",
    "#             tükid = []\n",
    "#             for item in df[tulba_nimi]:\n",
    "#                 tükid += item.split(',')\n",
    "#                 tükid_uus = [item.strip().lower() for item in tükid]\n",
    "#                 data[aasta] = pd.Series(Counter(tükid_uus))\n",
    "#         else:\n",
    "#             data[aasta] = df[tulba_nimi].value_counts() # saab ka df.groupby(tulp)[tulp].agg('count')\n",
    "            \n",
    "#         data[aasta + ' %'] = round(data[aasta] / data[aasta].sum() * 100, 1)\n",
    "# #         data[aasta] = map(int, list(data[aasta]))\n",
    "\n",
    "#     df = pd.DataFrame(data)\n",
    "    \n",
    "#     if sordi_index:\n",
    "#         df.sort_index(inplace = True) # sordime indexi järgi\n",
    "#     else:\n",
    "#         df.sort_values(by=[aastad[-1] + ' %'], inplace=True, ascending=False) # sordime viimase aasta järgi\n",
    "#     return df, tulba_nimi"
   ]
  },
  {
   "cell_type": "code",
   "execution_count": null,
   "metadata": {},
   "outputs": [],
   "source": [
    "# #df_grupp['2018']['KOKKUVÕTE']\n",
    "# df, tiitel = col_stat_grupp(4, True)\n",
    "# plot_barh_perc(df, tiitel, 'vastuste % kõigist vastusest')\n",
    "# display(df.index)"
   ]
  }
 ],
 "metadata": {
  "kernelspec": {
   "display_name": "Python 3",
   "language": "python",
   "name": "python3"
  },
  "language_info": {
   "codemirror_mode": {
    "name": "ipython",
    "version": 3
   },
   "file_extension": ".py",
   "mimetype": "text/x-python",
   "name": "python",
   "nbconvert_exporter": "python",
   "pygments_lexer": "ipython3",
   "version": "3.7.7"
  }
 },
 "nbformat": 4,
 "nbformat_minor": 4
}
